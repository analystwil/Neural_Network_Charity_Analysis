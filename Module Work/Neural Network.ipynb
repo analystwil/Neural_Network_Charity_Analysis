{
 "cells": [
  {
   "cell_type": "code",
   "execution_count": 1,
   "id": "14c8387d",
   "metadata": {},
   "outputs": [],
   "source": [
    "# Import our dependencies\n",
    "import pandas as pd\n",
    "import matplotlib as plt\n",
    "from sklearn.datasets import make_blobs\n",
    "import sklearn as skl\n",
    "import tensorflow as tf"
   ]
  },
  {
   "cell_type": "code",
   "execution_count": 2,
   "id": "b8e3c92f",
   "metadata": {},
   "outputs": [
    {
     "data": {
      "text/plain": [
       "<AxesSubplot:xlabel='Feature 1', ylabel='Feature 2'>"
      ]
     },
     "execution_count": 2,
     "metadata": {},
     "output_type": "execute_result"
    },
    {
     "data": {
      "image/png": "[encoded data removed]",
      "text/plain": [
       "<Figure size 432x288 with 2 Axes>"
      ]
     },
     "metadata": {
      "needs_background": "light"
     },
     "output_type": "display_data"
    }
   ],
   "source": [
    "# Generate dummy dataset\n",
    "X, y = make_blobs(n_samples=1000, centers=2, n_features=2, random_state=78)\n",
    "\n",
    "# Creating a DataFrame with the dummy data\n",
    "df = pd.DataFrame(X, columns=[\"Feature 1\", \"Feature 2\"])\n",
    "df[\"Target\"] = y\n",
    "\n",
    "# Plotting the dummy data\n",
    "df.plot.scatter(x=\"Feature 1\", y=\"Feature 2\", c=\"Target\", colormap=\"winter\")"
   ]
  },
  {
   "cell_type": "code",
   "execution_count": 3,
   "id": "3d3c9d79",
   "metadata": {},
   "outputs": [],
   "source": [
    "# Use sklearn to split dataset\n",
    "from sklearn.model_selection import train_test_split\n",
    "X_train, X_test, y_train, y_test = train_test_split(X, y, random_state=78)\n",
    "#training data"
   ]
  },
  {
   "cell_type": "code",
   "execution_count": 4,
   "id": "24bd7d06",
   "metadata": {},
   "outputs": [],
   "source": [
    "#prepare the dataset for our neural network model"
   ]
  },
  {
   "cell_type": "code",
   "execution_count": 5,
   "id": "3d7003a1",
   "metadata": {},
   "outputs": [],
   "source": [
    "#to normalize our dummy data\n",
    "\n",
    "# Create scaler instance\n",
    "X_scaler = skl.preprocessing.StandardScaler()\n",
    "\n",
    "# Fit the scaler\n",
    "X_scaler.fit(X_train)\n",
    "\n",
    "# Scale the data\n",
    "X_train_scaled = X_scaler.transform(X_train)\n",
    "X_test_scaled = X_scaler.transform(X_test)"
   ]
  },
  {
   "cell_type": "code",
   "execution_count": 6,
   "id": "75250f9b",
   "metadata": {},
   "outputs": [],
   "source": [
    "# Create the Keras Sequential model\n",
    "nn_model = tf.keras.models.Sequential()"
   ]
  },
  {
   "cell_type": "code",
   "execution_count": 7,
   "id": "87ff4988",
   "metadata": {},
   "outputs": [],
   "source": [
    "# Add our first Dense layer, including the input layer\n",
    "nn_model.add(tf.keras.layers.Dense(units=1, activation=\"relu\", input_dim=2))\n",
    "\n",
    "#defining the act function as part of the first layer is suggested but not required "
   ]
  },
  {
   "cell_type": "code",
   "execution_count": 8,
   "id": "48e6c1c2",
   "metadata": {},
   "outputs": [],
   "source": [
    "# Add the output layer that uses a probability activation function\n",
    "nn_model.add(tf.keras.layers.Dense(units=1, activation=\"sigmoid\"))\n",
    "\n",
    "#we only want a yes or no binary decision; therefore, we only need one output neuron\n"
   ]
  },
  {
   "cell_type": "code",
   "execution_count": 9,
   "id": "e0ea3422",
   "metadata": {},
   "outputs": [
    {
     "name": "stdout",
     "output_type": "stream",
     "text": [
      "Model: \"sequential\"\n",
      "_________________________________________________________________\n",
      "Layer (type)                 Output Shape              Param #   \n",
      "=================================================================\n",
      "dense (Dense)                (None, 1)                 3         \n",
      "_________________________________________________________________\n",
      "dense_1 (Dense)              (None, 1)                 2         \n",
      "=================================================================\n",
      "Total params: 5\n",
      "Trainable params: 5\n",
      "Non-trainable params: 0\n",
      "_________________________________________________________________\n"
     ]
    }
   ],
   "source": [
    "# Check the structure of the Sequential model\n",
    "nn_model.summary()"
   ]
  },
  {
   "cell_type": "code",
   "execution_count": 10,
   "id": "f63d4a7b",
   "metadata": {},
   "outputs": [],
   "source": [
    "# Compile the Sequential model together and customize metrics\n",
    "nn_model.compile(loss=\"binary_crossentropy\", optimizer=\"adam\", metrics=[\"accuracy\"])"
   ]
  },
  {
   "cell_type": "markdown",
   "id": "cab2d40a",
   "metadata": {},
   "source": [
    "training/fitting our model to the dummy data"
   ]
  },
  {
   "cell_type": "code",
   "execution_count": 12,
   "id": "0f1066a1",
   "metadata": {},
   "outputs": [
    {
     "name": "stdout",
     "output_type": "stream",
     "text": [
      "Epoch 1/100\n",
      "24/24 [==============================] - 2s 1ms/step - loss: 0.4904 - accuracy: 0.9960\n",
      "Epoch 2/100\n",
      "24/24 [==============================] - 0s 695us/step - loss: 0.4782 - accuracy: 0.9960\n",
      "Epoch 3/100\n",
      "24/24 [==============================] - 0s 687us/step - loss: 0.4661 - accuracy: 0.9960\n",
      "Epoch 4/100\n",
      "24/24 [==============================] - 0s 647us/step - loss: 0.4543 - accuracy: 0.9960\n",
      "Epoch 5/100\n",
      "24/24 [==============================] - 0s 630us/step - loss: 0.4427 - accuracy: 0.9960\n",
      "Epoch 6/100\n",
      "24/24 [==============================] - 0s 690us/step - loss: 0.4313 - accuracy: 0.9960\n",
      "Epoch 7/100\n",
      "24/24 [==============================] - 0s 731us/step - loss: 0.4202 - accuracy: 0.9960\n",
      "Epoch 8/100\n",
      "24/24 [==============================] - 0s 655us/step - loss: 0.4095 - accuracy: 0.9960\n",
      "Epoch 9/100\n",
      "24/24 [==============================] - 0s 623us/step - loss: 0.3991 - accuracy: 0.9960\n",
      "Epoch 10/100\n",
      "24/24 [==============================] - 0s 663us/step - loss: 0.3890 - accuracy: 0.9960\n",
      "Epoch 11/100\n",
      "24/24 [==============================] - 0s 1ms/step - loss: 0.3792 - accuracy: 0.9960\n",
      "Epoch 12/100\n",
      "24/24 [==============================] - 0s 630us/step - loss: 0.3697 - accuracy: 0.9960\n",
      "Epoch 13/100\n",
      "24/24 [==============================] - 0s 634us/step - loss: 0.3605 - accuracy: 0.9960\n",
      "Epoch 14/100\n",
      "24/24 [==============================] - 0s 630us/step - loss: 0.3516 - accuracy: 0.9960\n",
      "Epoch 15/100\n",
      "24/24 [==============================] - 0s 617us/step - loss: 0.3431 - accuracy: 0.9960\n",
      "Epoch 16/100\n",
      "24/24 [==============================] - 0s 620us/step - loss: 0.3348 - accuracy: 0.9960\n",
      "Epoch 17/100\n",
      "24/24 [==============================] - 0s 671us/step - loss: 0.3268 - accuracy: 0.9960\n",
      "Epoch 18/100\n",
      "24/24 [==============================] - 0s 688us/step - loss: 0.3191 - accuracy: 0.9960\n",
      "Epoch 19/100\n",
      "24/24 [==============================] - 0s 648us/step - loss: 0.3117 - accuracy: 0.9960\n",
      "Epoch 20/100\n",
      "24/24 [==============================] - 0s 616us/step - loss: 0.3044 - accuracy: 0.9960\n",
      "Epoch 21/100\n",
      "24/24 [==============================] - 0s 666us/step - loss: 0.2974 - accuracy: 0.9960\n",
      "Epoch 22/100\n",
      "24/24 [==============================] - 0s 637us/step - loss: 0.2906 - accuracy: 0.9960\n",
      "Epoch 23/100\n",
      "24/24 [==============================] - 0s 600us/step - loss: 0.2841 - accuracy: 0.9960\n",
      "Epoch 24/100\n",
      "24/24 [==============================] - 0s 641us/step - loss: 0.2777 - accuracy: 0.9973\n",
      "Epoch 25/100\n",
      "24/24 [==============================] - 0s 611us/step - loss: 0.2716 - accuracy: 0.9973\n",
      "Epoch 26/100\n",
      "24/24 [==============================] - 0s 652us/step - loss: 0.2656 - accuracy: 0.9973\n",
      "Epoch 27/100\n",
      "24/24 [==============================] - 0s 639us/step - loss: 0.2599 - accuracy: 1.0000\n",
      "Epoch 28/100\n",
      "24/24 [==============================] - 0s 673us/step - loss: 0.2543 - accuracy: 1.0000\n",
      "Epoch 29/100\n",
      "24/24 [==============================] - 0s 628us/step - loss: 0.2489 - accuracy: 1.0000\n",
      "Epoch 30/100\n",
      "24/24 [==============================] - 0s 616us/step - loss: 0.2436 - accuracy: 1.0000\n",
      "Epoch 31/100\n",
      "24/24 [==============================] - 0s 594us/step - loss: 0.2385 - accuracy: 1.0000\n",
      "Epoch 32/100\n",
      "24/24 [==============================] - 0s 623us/step - loss: 0.2335 - accuracy: 1.0000\n",
      "Epoch 33/100\n",
      "24/24 [==============================] - 0s 607us/step - loss: 0.2287 - accuracy: 1.0000\n",
      "Epoch 34/100\n",
      "24/24 [==============================] - 0s 625us/step - loss: 0.2240 - accuracy: 1.0000\n",
      "Epoch 35/100\n",
      "24/24 [==============================] - 0s 611us/step - loss: 0.2194 - accuracy: 1.0000\n",
      "Epoch 36/100\n",
      "24/24 [==============================] - 0s 604us/step - loss: 0.2150 - accuracy: 1.0000\n",
      "Epoch 37/100\n",
      "24/24 [==============================] - 0s 610us/step - loss: 0.2106 - accuracy: 1.0000\n",
      "Epoch 38/100\n",
      "24/24 [==============================] - 0s 621us/step - loss: 0.2064 - accuracy: 1.0000\n",
      "Epoch 39/100\n",
      "24/24 [==============================] - 0s 653us/step - loss: 0.2024 - accuracy: 1.0000\n",
      "Epoch 40/100\n",
      "24/24 [==============================] - 0s 713us/step - loss: 0.1984 - accuracy: 1.0000\n",
      "Epoch 41/100\n",
      "24/24 [==============================] - 0s 635us/step - loss: 0.1945 - accuracy: 1.0000\n",
      "Epoch 42/100\n",
      "24/24 [==============================] - 0s 661us/step - loss: 0.1908 - accuracy: 1.0000\n",
      "Epoch 43/100\n",
      "24/24 [==============================] - 0s 639us/step - loss: 0.1871 - accuracy: 1.0000\n",
      "Epoch 44/100\n",
      "24/24 [==============================] - 0s 632us/step - loss: 0.1835 - accuracy: 1.0000\n",
      "Epoch 45/100\n",
      "24/24 [==============================] - 0s 628us/step - loss: 0.1801 - accuracy: 1.0000\n",
      "Epoch 46/100\n",
      "24/24 [==============================] - 0s 642us/step - loss: 0.1766 - accuracy: 1.0000\n",
      "Epoch 47/100\n",
      "24/24 [==============================] - 0s 700us/step - loss: 0.1733 - accuracy: 1.0000\n",
      "Epoch 48/100\n",
      "24/24 [==============================] - 0s 697us/step - loss: 0.1701 - accuracy: 1.0000\n",
      "Epoch 49/100\n",
      "24/24 [==============================] - 0s 645us/step - loss: 0.1669 - accuracy: 1.0000\n",
      "Epoch 50/100\n",
      "24/24 [==============================] - 0s 625us/step - loss: 0.1639 - accuracy: 1.0000\n",
      "Epoch 51/100\n",
      "24/24 [==============================] - 0s 634us/step - loss: 0.1609 - accuracy: 1.0000\n",
      "Epoch 52/100\n",
      "24/24 [==============================] - 0s 627us/step - loss: 0.1580 - accuracy: 1.0000\n",
      "Epoch 53/100\n",
      "24/24 [==============================] - 0s 626us/step - loss: 0.1552 - accuracy: 1.0000\n",
      "Epoch 54/100\n",
      "24/24 [==============================] - 0s 650us/step - loss: 0.1524 - accuracy: 1.0000\n",
      "Epoch 55/100\n",
      "24/24 [==============================] - 0s 640us/step - loss: 0.1497 - accuracy: 1.0000\n",
      "Epoch 56/100\n",
      "24/24 [==============================] - 0s 601us/step - loss: 0.1470 - accuracy: 1.0000\n",
      "Epoch 57/100\n",
      "24/24 [==============================] - 0s 582us/step - loss: 0.1444 - accuracy: 1.0000\n",
      "Epoch 58/100\n",
      "24/24 [==============================] - 0s 629us/step - loss: 0.1419 - accuracy: 1.0000\n",
      "Epoch 59/100\n",
      "24/24 [==============================] - 0s 639us/step - loss: 0.1394 - accuracy: 1.0000\n",
      "Epoch 60/100\n",
      "24/24 [==============================] - 0s 592us/step - loss: 0.1370 - accuracy: 1.0000\n",
      "Epoch 61/100\n",
      "24/24 [==============================] - 0s 590us/step - loss: 0.1347 - accuracy: 1.0000\n",
      "Epoch 62/100\n",
      "24/24 [==============================] - 0s 612us/step - loss: 0.1324 - accuracy: 1.0000\n",
      "Epoch 63/100\n",
      "24/24 [==============================] - 0s 628us/step - loss: 0.1301 - accuracy: 1.0000\n",
      "Epoch 64/100\n",
      "24/24 [==============================] - 0s 592us/step - loss: 0.1279 - accuracy: 1.0000\n",
      "Epoch 65/100\n",
      "24/24 [==============================] - 0s 630us/step - loss: 0.1258 - accuracy: 1.0000\n",
      "Epoch 66/100\n",
      "24/24 [==============================] - 0s 601us/step - loss: 0.1236 - accuracy: 1.0000\n",
      "Epoch 67/100\n",
      "24/24 [==============================] - 0s 601us/step - loss: 0.1216 - accuracy: 1.0000\n",
      "Epoch 68/100\n",
      "24/24 [==============================] - 0s 587us/step - loss: 0.1196 - accuracy: 1.0000\n",
      "Epoch 69/100\n",
      "24/24 [==============================] - 0s 614us/step - loss: 0.1176 - accuracy: 1.0000\n",
      "Epoch 70/100\n",
      "24/24 [==============================] - 0s 602us/step - loss: 0.1157 - accuracy: 1.0000\n",
      "Epoch 71/100\n",
      "24/24 [==============================] - 0s 594us/step - loss: 0.1138 - accuracy: 1.0000\n",
      "Epoch 72/100\n",
      "24/24 [==============================] - 0s 615us/step - loss: 0.1119 - accuracy: 1.0000\n",
      "Epoch 73/100\n",
      "24/24 [==============================] - 0s 644us/step - loss: 0.1101 - accuracy: 1.0000\n",
      "Epoch 74/100\n",
      "24/24 [==============================] - 0s 614us/step - loss: 0.1083 - accuracy: 1.0000\n",
      "Epoch 75/100\n",
      "24/24 [==============================] - 0s 609us/step - loss: 0.1066 - accuracy: 1.0000\n",
      "Epoch 76/100\n",
      "24/24 [==============================] - 0s 585us/step - loss: 0.1049 - accuracy: 1.0000\n",
      "Epoch 77/100\n",
      "24/24 [==============================] - 0s 609us/step - loss: 0.1032 - accuracy: 1.0000\n",
      "Epoch 78/100\n",
      "24/24 [==============================] - 0s 589us/step - loss: 0.1016 - accuracy: 1.0000\n",
      "Epoch 79/100\n",
      "24/24 [==============================] - 0s 584us/step - loss: 0.1000 - accuracy: 1.0000\n",
      "Epoch 80/100\n",
      "24/24 [==============================] - 0s 587us/step - loss: 0.0984 - accuracy: 1.0000\n",
      "Epoch 81/100\n"
     ]
    },
    {
     "name": "stdout",
     "output_type": "stream",
     "text": [
      "24/24 [==============================] - 0s 583us/step - loss: 0.0969 - accuracy: 1.0000\n",
      "Epoch 82/100\n",
      "24/24 [==============================] - 0s 583us/step - loss: 0.0954 - accuracy: 1.0000\n",
      "Epoch 83/100\n",
      "24/24 [==============================] - 0s 588us/step - loss: 0.0940 - accuracy: 1.0000\n",
      "Epoch 84/100\n",
      "24/24 [==============================] - 0s 587us/step - loss: 0.0925 - accuracy: 1.0000\n",
      "Epoch 85/100\n",
      "24/24 [==============================] - 0s 580us/step - loss: 0.0911 - accuracy: 1.0000\n",
      "Epoch 86/100\n",
      "24/24 [==============================] - 0s 562us/step - loss: 0.0897 - accuracy: 1.0000\n",
      "Epoch 87/100\n",
      "24/24 [==============================] - 0s 602us/step - loss: 0.0884 - accuracy: 1.0000\n",
      "Epoch 88/100\n",
      "24/24 [==============================] - 0s 563us/step - loss: 0.0870 - accuracy: 1.0000\n",
      "Epoch 89/100\n",
      "24/24 [==============================] - 0s 569us/step - loss: 0.0858 - accuracy: 1.0000\n",
      "Epoch 90/100\n",
      "24/24 [==============================] - 0s 584us/step - loss: 0.0845 - accuracy: 1.0000\n",
      "Epoch 91/100\n",
      "24/24 [==============================] - 0s 592us/step - loss: 0.0832 - accuracy: 1.0000\n",
      "Epoch 92/100\n",
      "24/24 [==============================] - 0s 594us/step - loss: 0.0820 - accuracy: 1.0000\n",
      "Epoch 93/100\n",
      "24/24 [==============================] - 0s 596us/step - loss: 0.0808 - accuracy: 1.0000\n",
      "Epoch 94/100\n",
      "24/24 [==============================] - 0s 598us/step - loss: 0.0796 - accuracy: 1.0000\n",
      "Epoch 95/100\n",
      "24/24 [==============================] - 0s 604us/step - loss: 0.0784 - accuracy: 1.0000\n",
      "Epoch 96/100\n",
      "24/24 [==============================] - 0s 594us/step - loss: 0.0773 - accuracy: 1.0000\n",
      "Epoch 97/100\n",
      "24/24 [==============================] - 0s 588us/step - loss: 0.0762 - accuracy: 1.0000\n",
      "Epoch 98/100\n",
      "24/24 [==============================] - 0s 586us/step - loss: 0.0751 - accuracy: 1.0000\n",
      "Epoch 99/100\n",
      "24/24 [==============================] - 0s 582us/step - loss: 0.0740 - accuracy: 1.0000\n",
      "Epoch 100/100\n",
      "24/24 [==============================] - 0s 586us/step - loss: 0.0729 - accuracy: 1.0000\n"
     ]
    }
   ],
   "source": [
    "# Fit the model to the training data\n",
    "fit_model = nn_model.fit(X_train_scaled, y_train, epochs=100)"
   ]
  },
  {
   "cell_type": "code",
   "execution_count": 13,
   "id": "85aaaf5f",
   "metadata": {},
   "outputs": [
    {
     "data": {
      "text/plain": [
       "<AxesSubplot:>"
      ]
     },
     "execution_count": 13,
     "metadata": {},
     "output_type": "execute_result"
    },
    {
     "data": {
      "image/png": "[encoded data removed]",
      "text/plain": [
       "<Figure size 432x288 with 1 Axes>"
      ]
     },
     "metadata": {
      "needs_background": "light"
     },
     "output_type": "display_data"
    }
   ],
   "source": [
    "#visualize our model's loss over the full 100 epochs\n",
    "\n",
    "# Create a DataFrame containing training history\n",
    "history_df = pd.DataFrame(fit_model.history, index=range(1,len(fit_model.history[\"loss\"])+1))\n",
    "\n",
    "# Plot the loss\n",
    "history_df.plot(y=\"loss\")"
   ]
  },
  {
   "cell_type": "code",
   "execution_count": 14,
   "id": "e5716417",
   "metadata": {},
   "outputs": [
    {
     "data": {
      "text/plain": [
       "<AxesSubplot:>"
      ]
     },
     "execution_count": 14,
     "metadata": {},
     "output_type": "execute_result"
    },
    {
     "data": {
      "image/png": "[encoded data removed]",
      "text/plain": [
       "<Figure size 432x288 with 1 Axes>"
      ]
     },
     "metadata": {
      "needs_background": "light"
     },
     "output_type": "display_data"
    }
   ],
   "source": [
    "# Plot the accuracy\n",
    "history_df.plot(y=\"accuracy\")"
   ]
  },
  {
   "cell_type": "code",
   "execution_count": 15,
   "id": "fcb7b97b",
   "metadata": {},
   "outputs": [
    {
     "name": "stdout",
     "output_type": "stream",
     "text": [
      "8/8 - 0s - loss: 0.0680 - accuracy: 1.0000\n",
      "Loss: 0.06802098453044891, Accuracy: 1.0\n"
     ]
    }
   ],
   "source": [
    "# Evaluate the model using the test data\n",
    "model_loss, model_accuracy = nn_model.evaluate(X_test_scaled,y_test,verbose=2)\n",
    "print(f\"Loss: {model_loss}, Accuracy: {model_accuracy}\")\n"
   ]
  },
  {
   "cell_type": "code",
   "execution_count": 16,
   "id": "f498bedd",
   "metadata": {},
   "outputs": [
    {
     "data": {
      "text/plain": [
       "array([[0],\n",
       "       [1],\n",
       "       [0],\n",
       "       [1],\n",
       "       [0],\n",
       "       [0],\n",
       "       [1],\n",
       "       [1],\n",
       "       [1],\n",
       "       [0]], dtype=int32)"
      ]
     },
     "execution_count": 16,
     "metadata": {},
     "output_type": "execute_result"
    }
   ],
   "source": [
    "# Predict the classification of a new set of blob data\n",
    "new_X, new_Y = make_blobs(n_samples=10, centers=2, n_features=2, random_state=78)\n",
    "new_X_scaled = X_scaler.transform(new_X)\n",
    "(nn_model.predict(new_X_scaled) > 0.5).astype(\"int32\")"
   ]
  },
  {
   "cell_type": "markdown",
   "id": "c1a2fd34",
   "metadata": {},
   "source": [
    "start testing the limits of the basic neural network"
   ]
  },
  {
   "cell_type": "code",
   "execution_count": 17,
   "id": "0a4c2b55",
   "metadata": {},
   "outputs": [
    {
     "data": {
      "text/plain": [
       "<AxesSubplot:xlabel='Feature 1', ylabel='Feature 2'>"
      ]
     },
     "execution_count": 17,
     "metadata": {},
     "output_type": "execute_result"
    },
    {
     "data": {
      "image/png": "[encoded data removed]",
      "text/plain": [
       "<Figure size 432x288 with 2 Axes>"
      ]
     },
     "metadata": {
      "needs_background": "light"
     },
     "output_type": "display_data"
    }
   ],
   "source": [
    "from sklearn.datasets import make_moons\n",
    "\n",
    "# Creating dummy nonlinear data\n",
    "X_moons, y_moons = make_moons(n_samples=1000, noise=0.08, random_state=78)\n",
    "\n",
    "# Transforming y_moons to a vertical vector\n",
    "y_moons = y_moons.reshape(-1, 1)\n",
    "\n",
    "# Creating a DataFrame to plot the nonlinear dummy data\n",
    "df_moons = pd.DataFrame(X_moons, columns=[\"Feature 1\", \"Feature 2\"])\n",
    "df_moons[\"Target\"] = y_moons\n",
    "\n",
    "# Plot the nonlinear dummy data\n",
    "df_moons.plot.scatter(x=\"Feature 1\",y=\"Feature 2\", c=\"Target\",colormap=\"winter\")\n"
   ]
  },
  {
   "cell_type": "code",
   "execution_count": 18,
   "id": "a1009354",
   "metadata": {},
   "outputs": [],
   "source": [
    "# Create training and testing sets\n",
    "X_moon_train, X_moon_test, y_moon_train, y_moon_test = train_test_split(\n",
    "    X_moons, y_moons, random_state=78\n",
    ")\n",
    "\n",
    "# Create the scaler instance\n",
    "X_moon_scaler = skl.preprocessing.StandardScaler()\n",
    "\n",
    "# Fit the scaler\n",
    "X_moon_scaler.fit(X_moon_train)\n",
    "\n",
    "# Scale the data\n",
    "X_moon_train_scaled = X_moon_scaler.transform(X_moon_train)\n",
    "X_moon_test_scaled = X_moon_scaler.transform(X_moon_test)\n"
   ]
  },
  {
   "cell_type": "code",
   "execution_count": 19,
   "id": "985f8f4a",
   "metadata": {},
   "outputs": [
    {
     "name": "stdout",
     "output_type": "stream",
     "text": [
      "Epoch 1/100\n",
      "24/24 [==============================] - 1s 2ms/step - loss: 1.1978 - accuracy: 0.4573\n",
      "Epoch 2/100\n",
      "24/24 [==============================] - 0s 1ms/step - loss: 1.0516 - accuracy: 0.4840\n",
      "Epoch 3/100\n",
      "24/24 [==============================] - 0s 1ms/step - loss: 0.9603 - accuracy: 0.4960\n",
      "Epoch 4/100\n",
      "24/24 [==============================] - 0s 1ms/step - loss: 0.8982 - accuracy: 0.5120\n",
      "Epoch 5/100\n",
      "24/24 [==============================] - 0s 1ms/step - loss: 0.8558 - accuracy: 0.5307\n",
      "Epoch 6/100\n",
      "24/24 [==============================] - 0s 1ms/step - loss: 0.8229 - accuracy: 0.5467\n",
      "Epoch 7/100\n",
      "24/24 [==============================] - 0s 1ms/step - loss: 0.7968 - accuracy: 0.5587\n",
      "Epoch 8/100\n",
      "24/24 [==============================] - 0s 1ms/step - loss: 0.7754 - accuracy: 0.5667\n",
      "Epoch 9/100\n",
      "24/24 [==============================] - 0s 2ms/step - loss: 0.7566 - accuracy: 0.5773\n",
      "Epoch 10/100\n",
      "24/24 [==============================] - 0s 2ms/step - loss: 0.7403 - accuracy: 0.5840\n",
      "Epoch 11/100\n",
      "24/24 [==============================] - 0s 3ms/step - loss: 0.7264 - accuracy: 0.5907\n",
      "Epoch 12/100\n",
      "24/24 [==============================] - 0s 1ms/step - loss: 0.7136 - accuracy: 0.5973\n",
      "Epoch 13/100\n",
      "24/24 [==============================] - 0s 2ms/step - loss: 0.7022 - accuracy: 0.6053\n",
      "Epoch 14/100\n",
      "24/24 [==============================] - 0s 1ms/step - loss: 0.6918 - accuracy: 0.6160\n",
      "Epoch 15/100\n",
      "24/24 [==============================] - 0s 1ms/step - loss: 0.6823 - accuracy: 0.6200\n",
      "Epoch 16/100\n",
      "24/24 [==============================] - 0s 934us/step - loss: 0.6735 - accuracy: 0.6293\n",
      "Epoch 17/100\n",
      "24/24 [==============================] - 0s 929us/step - loss: 0.6651 - accuracy: 0.6293\n",
      "Epoch 18/100\n",
      "24/24 [==============================] - 0s 896us/step - loss: 0.6572 - accuracy: 0.6347\n",
      "Epoch 19/100\n",
      "24/24 [==============================] - 0s 1ms/step - loss: 0.6497 - accuracy: 0.6373\n",
      "Epoch 20/100\n",
      "24/24 [==============================] - 0s 1ms/step - loss: 0.6428 - accuracy: 0.6440\n",
      "Epoch 21/100\n",
      "24/24 [==============================] - 0s 1ms/step - loss: 0.6358 - accuracy: 0.6520\n",
      "Epoch 22/100\n",
      "24/24 [==============================] - 0s 1000us/step - loss: 0.6296 - accuracy: 0.6547\n",
      "Epoch 23/100\n",
      "24/24 [==============================] - 0s 1ms/step - loss: 0.6236 - accuracy: 0.6560\n",
      "Epoch 24/100\n",
      "24/24 [==============================] - 0s 1ms/step - loss: 0.6177 - accuracy: 0.6600\n",
      "Epoch 25/100\n",
      "24/24 [==============================] - 0s 1ms/step - loss: 0.6122 - accuracy: 0.6613\n",
      "Epoch 26/100\n",
      "24/24 [==============================] - 0s 1ms/step - loss: 0.6069 - accuracy: 0.6667\n",
      "Epoch 27/100\n",
      "24/24 [==============================] - 0s 1ms/step - loss: 0.6016 - accuracy: 0.6693\n",
      "Epoch 28/100\n",
      "24/24 [==============================] - 0s 1ms/step - loss: 0.5967 - accuracy: 0.6720\n",
      "Epoch 29/100\n",
      "24/24 [==============================] - 0s 1ms/step - loss: 0.5916 - accuracy: 0.6747\n",
      "Epoch 30/100\n",
      "24/24 [==============================] - 0s 1ms/step - loss: 0.5868 - accuracy: 0.6773\n",
      "Epoch 31/100\n",
      "24/24 [==============================] - 0s 1ms/step - loss: 0.5823 - accuracy: 0.6787\n",
      "Epoch 32/100\n",
      "24/24 [==============================] - 0s 1ms/step - loss: 0.5779 - accuracy: 0.6787\n",
      "Epoch 33/100\n",
      "24/24 [==============================] - 0s 1ms/step - loss: 0.5737 - accuracy: 0.6813\n",
      "Epoch 34/100\n",
      "24/24 [==============================] - 0s 1ms/step - loss: 0.5698 - accuracy: 0.6827\n",
      "Epoch 35/100\n",
      "24/24 [==============================] - 0s 1ms/step - loss: 0.5658 - accuracy: 0.6827\n",
      "Epoch 36/100\n",
      "24/24 [==============================] - 0s 983us/step - loss: 0.5620 - accuracy: 0.6853\n",
      "Epoch 37/100\n",
      "24/24 [==============================] - 0s 1ms/step - loss: 0.5584 - accuracy: 0.6853\n",
      "Epoch 38/100\n",
      "24/24 [==============================] - 0s 1ms/step - loss: 0.5549 - accuracy: 0.6867\n",
      "Epoch 39/100\n",
      "24/24 [==============================] - 0s 1ms/step - loss: 0.5515 - accuracy: 0.6907\n",
      "Epoch 40/100\n",
      "24/24 [==============================] - 0s 1ms/step - loss: 0.5481 - accuracy: 0.6893\n",
      "Epoch 41/100\n",
      "24/24 [==============================] - 0s 1ms/step - loss: 0.5446 - accuracy: 0.6893\n",
      "Epoch 42/100\n",
      "24/24 [==============================] - 0s 1ms/step - loss: 0.5414 - accuracy: 0.6920\n",
      "Epoch 43/100\n",
      "24/24 [==============================] - 0s 1ms/step - loss: 0.5382 - accuracy: 0.6960\n",
      "Epoch 44/100\n",
      "24/24 [==============================] - 0s 1ms/step - loss: 0.5352 - accuracy: 0.6987\n",
      "Epoch 45/100\n",
      "24/24 [==============================] - 0s 1ms/step - loss: 0.5322 - accuracy: 0.7000\n",
      "Epoch 46/100\n",
      "24/24 [==============================] - 0s 1ms/step - loss: 0.5293 - accuracy: 0.7027\n",
      "Epoch 47/100\n",
      "24/24 [==============================] - 0s 1ms/step - loss: 0.5264 - accuracy: 0.7027\n",
      "Epoch 48/100\n",
      "24/24 [==============================] - 0s 1ms/step - loss: 0.5235 - accuracy: 0.7067\n",
      "Epoch 49/100\n",
      "24/24 [==============================] - 0s 1ms/step - loss: 0.5207 - accuracy: 0.7120\n",
      "Epoch 50/100\n",
      "24/24 [==============================] - 0s 1ms/step - loss: 0.5179 - accuracy: 0.7160\n",
      "Epoch 51/100\n",
      "24/24 [==============================] - 0s 1ms/step - loss: 0.5152 - accuracy: 0.7160\n",
      "Epoch 52/100\n",
      "24/24 [==============================] - 0s 1ms/step - loss: 0.5125 - accuracy: 0.7187\n",
      "Epoch 53/100\n",
      "24/24 [==============================] - 0s 1ms/step - loss: 0.5098 - accuracy: 0.7227\n",
      "Epoch 54/100\n",
      "24/24 [==============================] - 0s 1ms/step - loss: 0.5072 - accuracy: 0.7267\n",
      "Epoch 55/100\n",
      "24/24 [==============================] - 0s 1ms/step - loss: 0.5046 - accuracy: 0.7280\n",
      "Epoch 56/100\n",
      "24/24 [==============================] - 0s 1ms/step - loss: 0.5020 - accuracy: 0.7293\n",
      "Epoch 57/100\n",
      "24/24 [==============================] - 0s 1ms/step - loss: 0.4994 - accuracy: 0.7293\n",
      "Epoch 58/100\n",
      "24/24 [==============================] - 0s 1ms/step - loss: 0.4968 - accuracy: 0.7307\n",
      "Epoch 59/100\n",
      "24/24 [==============================] - 0s 1ms/step - loss: 0.4940 - accuracy: 0.7333\n",
      "Epoch 60/100\n",
      "24/24 [==============================] - 0s 1ms/step - loss: 0.4913 - accuracy: 0.7333\n",
      "Epoch 61/100\n",
      "24/24 [==============================] - 0s 1ms/step - loss: 0.4885 - accuracy: 0.7333\n",
      "Epoch 62/100\n",
      "24/24 [==============================] - 0s 1ms/step - loss: 0.4858 - accuracy: 0.7373\n",
      "Epoch 63/100\n",
      "24/24 [==============================] - 0s 1ms/step - loss: 0.4832 - accuracy: 0.7387\n",
      "Epoch 64/100\n",
      "24/24 [==============================] - 0s 999us/step - loss: 0.4805 - accuracy: 0.7413\n",
      "Epoch 65/100\n",
      "24/24 [==============================] - 0s 1ms/step - loss: 0.4778 - accuracy: 0.7413\n",
      "Epoch 66/100\n",
      "24/24 [==============================] - 0s 1ms/step - loss: 0.4752 - accuracy: 0.7413\n",
      "Epoch 67/100\n",
      "24/24 [==============================] - 0s 1ms/step - loss: 0.4723 - accuracy: 0.7453\n",
      "Epoch 68/100\n",
      "24/24 [==============================] - 0s 1ms/step - loss: 0.4697 - accuracy: 0.7520\n",
      "Epoch 69/100\n",
      "24/24 [==============================] - 0s 965us/step - loss: 0.4669 - accuracy: 0.7533\n",
      "Epoch 70/100\n",
      "24/24 [==============================] - 0s 1ms/step - loss: 0.4641 - accuracy: 0.7547\n",
      "Epoch 71/100\n",
      "24/24 [==============================] - 0s 988us/step - loss: 0.4612 - accuracy: 0.7600\n",
      "Epoch 72/100\n",
      "24/24 [==============================] - 0s 1ms/step - loss: 0.4582 - accuracy: 0.7600\n",
      "Epoch 73/100\n",
      "24/24 [==============================] - 0s 911us/step - loss: 0.4554 - accuracy: 0.7627\n",
      "Epoch 74/100\n",
      "24/24 [==============================] - 0s 1ms/step - loss: 0.4524 - accuracy: 0.7653\n",
      "Epoch 75/100\n",
      "24/24 [==============================] - 0s 1ms/step - loss: 0.4496 - accuracy: 0.7680\n",
      "Epoch 76/100\n",
      "24/24 [==============================] - 0s 976us/step - loss: 0.4466 - accuracy: 0.7693\n",
      "Epoch 77/100\n",
      "24/24 [==============================] - 0s 957us/step - loss: 0.4436 - accuracy: 0.7733\n",
      "Epoch 78/100\n",
      "24/24 [==============================] - 0s 985us/step - loss: 0.4406 - accuracy: 0.7760\n",
      "Epoch 79/100\n",
      "24/24 [==============================] - 0s 1ms/step - loss: 0.4375 - accuracy: 0.7760\n",
      "Epoch 80/100\n",
      "24/24 [==============================] - 0s 993us/step - loss: 0.4343 - accuracy: 0.7760\n",
      "Epoch 81/100\n",
      "24/24 [==============================] - 0s 994us/step - loss: 0.4310 - accuracy: 0.7773\n",
      "Epoch 82/100\n"
     ]
    },
    {
     "name": "stdout",
     "output_type": "stream",
     "text": [
      "24/24 [==============================] - 0s 991us/step - loss: 0.4278 - accuracy: 0.7787\n",
      "Epoch 83/100\n",
      "24/24 [==============================] - 0s 984us/step - loss: 0.4242 - accuracy: 0.7827\n",
      "Epoch 84/100\n",
      "24/24 [==============================] - 0s 924us/step - loss: 0.4209 - accuracy: 0.7867\n",
      "Epoch 85/100\n",
      "24/24 [==============================] - 0s 991us/step - loss: 0.4177 - accuracy: 0.7867\n",
      "Epoch 86/100\n",
      "24/24 [==============================] - 0s 937us/step - loss: 0.4144 - accuracy: 0.7907\n",
      "Epoch 87/100\n",
      "24/24 [==============================] - 0s 935us/step - loss: 0.4112 - accuracy: 0.7947\n",
      "Epoch 88/100\n",
      "24/24 [==============================] - 0s 930us/step - loss: 0.4078 - accuracy: 0.8013\n",
      "Epoch 89/100\n",
      "24/24 [==============================] - 0s 924us/step - loss: 0.4044 - accuracy: 0.8067\n",
      "Epoch 90/100\n",
      "24/24 [==============================] - 0s 914us/step - loss: 0.4011 - accuracy: 0.8107\n",
      "Epoch 91/100\n",
      "24/24 [==============================] - 0s 906us/step - loss: 0.3978 - accuracy: 0.8107\n",
      "Epoch 92/100\n",
      "24/24 [==============================] - 0s 920us/step - loss: 0.3943 - accuracy: 0.8133\n",
      "Epoch 93/100\n",
      "24/24 [==============================] - 0s 952us/step - loss: 0.3911 - accuracy: 0.8133\n",
      "Epoch 94/100\n",
      "24/24 [==============================] - 0s 941us/step - loss: 0.3877 - accuracy: 0.8133\n",
      "Epoch 95/100\n",
      "24/24 [==============================] - 0s 932us/step - loss: 0.3845 - accuracy: 0.8160\n",
      "Epoch 96/100\n",
      "24/24 [==============================] - 0s 924us/step - loss: 0.3813 - accuracy: 0.8187\n",
      "Epoch 97/100\n",
      "24/24 [==============================] - 0s 883us/step - loss: 0.3780 - accuracy: 0.8227\n",
      "Epoch 98/100\n",
      "24/24 [==============================] - 0s 961us/step - loss: 0.3749 - accuracy: 0.8227\n",
      "Epoch 99/100\n",
      "24/24 [==============================] - 0s 899us/step - loss: 0.3714 - accuracy: 0.8240\n",
      "Epoch 100/100\n",
      "24/24 [==============================] - 0s 911us/step - loss: 0.3681 - accuracy: 0.8253\n"
     ]
    }
   ],
   "source": [
    "# Training the model with the nonlinear data\n",
    "model_moon = nn_model.fit(X_moon_train_scaled, y_moon_train, epochs=100, shuffle=True)"
   ]
  },
  {
   "cell_type": "code",
   "execution_count": 20,
   "id": "6f0b63b3",
   "metadata": {},
   "outputs": [
    {
     "data": {
      "text/plain": [
       "<AxesSubplot:>"
      ]
     },
     "execution_count": 20,
     "metadata": {},
     "output_type": "execute_result"
    },
    {
     "data": {
      "image/png": "[encoded data removed]",
      "text/plain": [
       "<Figure size 432x288 with 1 Axes>"
      ]
     },
     "metadata": {
      "needs_background": "light"
     },
     "output_type": "display_data"
    }
   ],
   "source": [
    "# Create a DataFrame containing training history\n",
    "history_df = pd.DataFrame(model_moon.history, index=range(1,len(model_moon.history[\"loss\"])+1))\n",
    "\n",
    "# Plot the loss\n",
    "history_df.plot(y=\"loss\")"
   ]
  },
  {
   "cell_type": "code",
   "execution_count": 21,
   "id": "494fb9cd",
   "metadata": {},
   "outputs": [
    {
     "data": {
      "text/plain": [
       "<AxesSubplot:>"
      ]
     },
     "execution_count": 21,
     "metadata": {},
     "output_type": "execute_result"
    },
    {
     "data": {
      "image/png": "[encoded data removed]",
      "text/plain": [
       "<Figure size 432x288 with 1 Axes>"
      ]
     },
     "metadata": {
      "needs_background": "light"
     },
     "output_type": "display_data"
    }
   ],
   "source": [
    "# Plot the accuracy\n",
    "history_df.plot(y=\"accuracy\")"
   ]
  },
  {
   "cell_type": "code",
   "execution_count": 22,
   "id": "5a5b02da",
   "metadata": {},
   "outputs": [],
   "source": [
    "# Generate our new Sequential model\n",
    "new_model = tf.keras.models.Sequential()"
   ]
  },
  {
   "cell_type": "code",
   "execution_count": 23,
   "id": "50cceada",
   "metadata": {},
   "outputs": [],
   "source": [
    "# Add the input and hidden layer\n",
    "number_inputs = 2\n",
    "number_hidden_nodes = 6\n",
    "\n",
    "new_model.add(tf.keras.layers.Dense(units=number_hidden_nodes, activation=\"relu\", input_dim=number_inputs))\n",
    "\n",
    "# Add the output layer that uses a probability activation function\n",
    "new_model.add(tf.keras.layers.Dense(units=1, activation=\"sigmoid\"))\n"
   ]
  },
  {
   "cell_type": "code",
   "execution_count": 24,
   "id": "4bf2c509",
   "metadata": {},
   "outputs": [
    {
     "name": "stdout",
     "output_type": "stream",
     "text": [
      "Epoch 1/100\n",
      "24/24 [==============================] - 2s 2ms/step - loss: 0.8682 - accuracy: 0.4613\n",
      "Epoch 2/100\n",
      "24/24 [==============================] - 0s 903us/step - loss: 0.8216 - accuracy: 0.4840\n",
      "Epoch 3/100\n",
      "24/24 [==============================] - 0s 755us/step - loss: 0.7809 - accuracy: 0.5000\n",
      "Epoch 4/100\n",
      "24/24 [==============================] - 0s 790us/step - loss: 0.7448 - accuracy: 0.5360\n",
      "Epoch 5/100\n",
      "24/24 [==============================] - 0s 745us/step - loss: 0.7125 - accuracy: 0.5347\n",
      "Epoch 6/100\n",
      "24/24 [==============================] - 0s 777us/step - loss: 0.6832 - accuracy: 0.5187\n",
      "Epoch 7/100\n",
      "24/24 [==============================] - 0s 693us/step - loss: 0.6565 - accuracy: 0.5080\n",
      "Epoch 8/100\n",
      "24/24 [==============================] - 0s 724us/step - loss: 0.6320 - accuracy: 0.5253\n",
      "Epoch 9/100\n",
      "24/24 [==============================] - 0s 714us/step - loss: 0.6091 - accuracy: 0.5587\n",
      "Epoch 10/100\n",
      "24/24 [==============================] - 0s 698us/step - loss: 0.5876 - accuracy: 0.5827\n",
      "Epoch 11/100\n",
      "24/24 [==============================] - 0s 745us/step - loss: 0.5678 - accuracy: 0.6040\n",
      "Epoch 12/100\n",
      "24/24 [==============================] - 0s 710us/step - loss: 0.5492 - accuracy: 0.6347\n",
      "Epoch 13/100\n",
      "24/24 [==============================] - 0s 710us/step - loss: 0.5319 - accuracy: 0.6533\n",
      "Epoch 14/100\n",
      "24/24 [==============================] - 0s 708us/step - loss: 0.5157 - accuracy: 0.6733\n",
      "Epoch 15/100\n",
      "24/24 [==============================] - 0s 752us/step - loss: 0.5008 - accuracy: 0.7080\n",
      "Epoch 16/100\n",
      "24/24 [==============================] - 0s 904us/step - loss: 0.4870 - accuracy: 0.7467\n",
      "Epoch 17/100\n",
      "24/24 [==============================] - 0s 875us/step - loss: 0.4745 - accuracy: 0.7747\n",
      "Epoch 18/100\n",
      "24/24 [==============================] - 0s 805us/step - loss: 0.4626 - accuracy: 0.8107\n",
      "Epoch 19/100\n",
      "24/24 [==============================] - 0s 789us/step - loss: 0.4520 - accuracy: 0.8333\n",
      "Epoch 20/100\n",
      "24/24 [==============================] - 0s 789us/step - loss: 0.4419 - accuracy: 0.8493\n",
      "Epoch 21/100\n",
      "24/24 [==============================] - 0s 808us/step - loss: 0.4327 - accuracy: 0.8547\n",
      "Epoch 22/100\n",
      "24/24 [==============================] - 0s 680us/step - loss: 0.4241 - accuracy: 0.8600\n",
      "Epoch 23/100\n",
      "24/24 [==============================] - 0s 725us/step - loss: 0.4161 - accuracy: 0.8600\n",
      "Epoch 24/100\n",
      "24/24 [==============================] - 0s 788us/step - loss: 0.4087 - accuracy: 0.8640\n",
      "Epoch 25/100\n",
      "24/24 [==============================] - 0s 755us/step - loss: 0.4018 - accuracy: 0.8640\n",
      "Epoch 26/100\n",
      "24/24 [==============================] - 0s 738us/step - loss: 0.3954 - accuracy: 0.8707\n",
      "Epoch 27/100\n",
      "24/24 [==============================] - 0s 731us/step - loss: 0.3893 - accuracy: 0.8733\n",
      "Epoch 28/100\n",
      "24/24 [==============================] - 0s 750us/step - loss: 0.3839 - accuracy: 0.8747\n",
      "Epoch 29/100\n",
      "24/24 [==============================] - 0s 823us/step - loss: 0.3788 - accuracy: 0.8787\n",
      "Epoch 30/100\n",
      "24/24 [==============================] - 0s 793us/step - loss: 0.3739 - accuracy: 0.8800\n",
      "Epoch 31/100\n",
      "24/24 [==============================] - 0s 808us/step - loss: 0.3696 - accuracy: 0.8827\n",
      "Epoch 32/100\n",
      "24/24 [==============================] - 0s 718us/step - loss: 0.3654 - accuracy: 0.8827\n",
      "Epoch 33/100\n",
      "24/24 [==============================] - 0s 833us/step - loss: 0.3616 - accuracy: 0.8827\n",
      "Epoch 34/100\n",
      "24/24 [==============================] - 0s 742us/step - loss: 0.3579 - accuracy: 0.8827\n",
      "Epoch 35/100\n",
      "24/24 [==============================] - 0s 743us/step - loss: 0.3545 - accuracy: 0.8867\n",
      "Epoch 36/100\n",
      "24/24 [==============================] - 0s 726us/step - loss: 0.3513 - accuracy: 0.8893\n",
      "Epoch 37/100\n",
      "24/24 [==============================] - 0s 674us/step - loss: 0.3481 - accuracy: 0.8907\n",
      "Epoch 38/100\n",
      "24/24 [==============================] - 0s 695us/step - loss: 0.3452 - accuracy: 0.8920\n",
      "Epoch 39/100\n",
      "24/24 [==============================] - 0s 700us/step - loss: 0.3425 - accuracy: 0.8933\n",
      "Epoch 40/100\n",
      "24/24 [==============================] - 0s 711us/step - loss: 0.3399 - accuracy: 0.8960\n",
      "Epoch 41/100\n",
      "24/24 [==============================] - 0s 720us/step - loss: 0.3373 - accuracy: 0.8960\n",
      "Epoch 42/100\n",
      "24/24 [==============================] - 0s 734us/step - loss: 0.3349 - accuracy: 0.8960\n",
      "Epoch 43/100\n",
      "24/24 [==============================] - 0s 641us/step - loss: 0.3325 - accuracy: 0.8960\n",
      "Epoch 44/100\n",
      "24/24 [==============================] - 0s 763us/step - loss: 0.3303 - accuracy: 0.8960\n",
      "Epoch 45/100\n",
      "24/24 [==============================] - 0s 665us/step - loss: 0.3281 - accuracy: 0.8933\n",
      "Epoch 46/100\n",
      "24/24 [==============================] - 0s 724us/step - loss: 0.3260 - accuracy: 0.8960\n",
      "Epoch 47/100\n",
      "24/24 [==============================] - 0s 829us/step - loss: 0.3240 - accuracy: 0.8973\n",
      "Epoch 48/100\n",
      "24/24 [==============================] - 0s 758us/step - loss: 0.3221 - accuracy: 0.8960\n",
      "Epoch 49/100\n",
      "24/24 [==============================] - 0s 713us/step - loss: 0.3202 - accuracy: 0.8960\n",
      "Epoch 50/100\n",
      "24/24 [==============================] - 0s 733us/step - loss: 0.3184 - accuracy: 0.8960\n",
      "Epoch 51/100\n",
      "24/24 [==============================] - 0s 771us/step - loss: 0.3166 - accuracy: 0.8960\n",
      "Epoch 52/100\n",
      "24/24 [==============================] - 0s 778us/step - loss: 0.3149 - accuracy: 0.8960\n",
      "Epoch 53/100\n",
      "24/24 [==============================] - 0s 678us/step - loss: 0.3134 - accuracy: 0.8960\n",
      "Epoch 54/100\n",
      "24/24 [==============================] - 0s 665us/step - loss: 0.3118 - accuracy: 0.8947\n",
      "Epoch 55/100\n",
      "24/24 [==============================] - 0s 643us/step - loss: 0.3103 - accuracy: 0.8933\n",
      "Epoch 56/100\n",
      "24/24 [==============================] - 0s 872us/step - loss: 0.3088 - accuracy: 0.8933\n",
      "Epoch 57/100\n",
      "24/24 [==============================] - 0s 706us/step - loss: 0.3074 - accuracy: 0.8933\n",
      "Epoch 58/100\n",
      "24/24 [==============================] - 0s 676us/step - loss: 0.3060 - accuracy: 0.8933\n",
      "Epoch 59/100\n",
      "24/24 [==============================] - 0s 643us/step - loss: 0.3047 - accuracy: 0.8933\n",
      "Epoch 60/100\n",
      "24/24 [==============================] - 0s 674us/step - loss: 0.3033 - accuracy: 0.8933\n",
      "Epoch 61/100\n",
      "24/24 [==============================] - 0s 648us/step - loss: 0.3020 - accuracy: 0.8933\n",
      "Epoch 62/100\n",
      "24/24 [==============================] - 0s 648us/step - loss: 0.3008 - accuracy: 0.8933\n",
      "Epoch 63/100\n",
      "24/24 [==============================] - 0s 825us/step - loss: 0.2995 - accuracy: 0.8933\n",
      "Epoch 64/100\n",
      "24/24 [==============================] - 0s 655us/step - loss: 0.2983 - accuracy: 0.8933\n",
      "Epoch 65/100\n",
      "24/24 [==============================] - 0s 667us/step - loss: 0.2972 - accuracy: 0.8933\n",
      "Epoch 66/100\n",
      "24/24 [==============================] - 0s 684us/step - loss: 0.2960 - accuracy: 0.8933\n",
      "Epoch 67/100\n",
      "24/24 [==============================] - 0s 672us/step - loss: 0.2948 - accuracy: 0.8933\n",
      "Epoch 68/100\n",
      "24/24 [==============================] - 0s 778us/step - loss: 0.2937 - accuracy: 0.8933\n",
      "Epoch 69/100\n",
      "24/24 [==============================] - 0s 723us/step - loss: 0.2925 - accuracy: 0.8933\n",
      "Epoch 70/100\n",
      "24/24 [==============================] - 0s 643us/step - loss: 0.2914 - accuracy: 0.8933\n",
      "Epoch 71/100\n",
      "24/24 [==============================] - 0s 774us/step - loss: 0.2904 - accuracy: 0.8933\n",
      "Epoch 72/100\n",
      "24/24 [==============================] - 0s 711us/step - loss: 0.2894 - accuracy: 0.8933\n",
      "Epoch 73/100\n",
      "24/24 [==============================] - 0s 635us/step - loss: 0.2883 - accuracy: 0.8947\n",
      "Epoch 74/100\n",
      "24/24 [==============================] - 0s 632us/step - loss: 0.2874 - accuracy: 0.8947\n",
      "Epoch 75/100\n",
      "24/24 [==============================] - 0s 642us/step - loss: 0.2863 - accuracy: 0.8933\n",
      "Epoch 76/100\n",
      "24/24 [==============================] - 0s 669us/step - loss: 0.2855 - accuracy: 0.8947\n",
      "Epoch 77/100\n",
      "24/24 [==============================] - 0s 700us/step - loss: 0.2845 - accuracy: 0.8960\n",
      "Epoch 78/100\n",
      "24/24 [==============================] - 0s 667us/step - loss: 0.2836 - accuracy: 0.8947\n",
      "Epoch 79/100\n",
      "24/24 [==============================] - 0s 652us/step - loss: 0.2826 - accuracy: 0.8947\n",
      "Epoch 80/100\n",
      "24/24 [==============================] - 0s 653us/step - loss: 0.2817 - accuracy: 0.8947\n",
      "Epoch 81/100\n"
     ]
    },
    {
     "name": "stdout",
     "output_type": "stream",
     "text": [
      "24/24 [==============================] - 0s 677us/step - loss: 0.2808 - accuracy: 0.8947\n",
      "Epoch 82/100\n",
      "24/24 [==============================] - 0s 689us/step - loss: 0.2800 - accuracy: 0.8947\n",
      "Epoch 83/100\n",
      "24/24 [==============================] - 0s 676us/step - loss: 0.2790 - accuracy: 0.8947\n",
      "Epoch 84/100\n",
      "24/24 [==============================] - 0s 689us/step - loss: 0.2782 - accuracy: 0.8947\n",
      "Epoch 85/100\n",
      "24/24 [==============================] - 0s 664us/step - loss: 0.2773 - accuracy: 0.8947\n",
      "Epoch 86/100\n",
      "24/24 [==============================] - 0s 622us/step - loss: 0.2765 - accuracy: 0.8947\n",
      "Epoch 87/100\n",
      "24/24 [==============================] - 0s 672us/step - loss: 0.2758 - accuracy: 0.8947\n",
      "Epoch 88/100\n",
      "24/24 [==============================] - 0s 624us/step - loss: 0.2750 - accuracy: 0.8947\n",
      "Epoch 89/100\n",
      "24/24 [==============================] - 0s 710us/step - loss: 0.2742 - accuracy: 0.8960\n",
      "Epoch 90/100\n",
      "24/24 [==============================] - 0s 694us/step - loss: 0.2734 - accuracy: 0.8960\n",
      "Epoch 91/100\n",
      "24/24 [==============================] - 0s 639us/step - loss: 0.2726 - accuracy: 0.8960\n",
      "Epoch 92/100\n",
      "24/24 [==============================] - 0s 649us/step - loss: 0.2718 - accuracy: 0.8960\n",
      "Epoch 93/100\n",
      "24/24 [==============================] - 0s 656us/step - loss: 0.2709 - accuracy: 0.8960\n",
      "Epoch 94/100\n",
      "24/24 [==============================] - 0s 673us/step - loss: 0.2703 - accuracy: 0.8960\n",
      "Epoch 95/100\n",
      "24/24 [==============================] - 0s 669us/step - loss: 0.2695 - accuracy: 0.8960\n",
      "Epoch 96/100\n",
      "24/24 [==============================] - 0s 687us/step - loss: 0.2687 - accuracy: 0.8960\n",
      "Epoch 97/100\n",
      "24/24 [==============================] - 0s 616us/step - loss: 0.2679 - accuracy: 0.8960\n",
      "Epoch 98/100\n",
      "24/24 [==============================] - 0s 648us/step - loss: 0.2671 - accuracy: 0.8960\n",
      "Epoch 99/100\n",
      "24/24 [==============================] - 0s 648us/step - loss: 0.2664 - accuracy: 0.8960\n",
      "Epoch 100/100\n",
      "24/24 [==============================] - 0s 689us/step - loss: 0.2657 - accuracy: 0.8960\n"
     ]
    }
   ],
   "source": [
    "# Compile the Sequential model together and customize metrics\n",
    "new_model.compile(loss=\"binary_crossentropy\", optimizer=\"adam\", metrics=[\"accuracy\"])\n",
    "\n",
    "# Fit the model to the training data\n",
    "new_fit_model = new_model.fit(X_moon_train_scaled, y_moon_train, epochs=100, shuffle=True)"
   ]
  },
  {
   "cell_type": "code",
   "execution_count": null,
   "id": "b4ee3258",
   "metadata": {},
   "outputs": [],
   "source": []
  }
 ],
 "metadata": {
  "kernelspec": {
   "display_name": "mlenv",
   "language": "python",
   "name": "mlenv"
  },
  "language_info": {
   "codemirror_mode": {
    "name": "ipython",
    "version": 3
   },
   "file_extension": ".py",
   "mimetype": "text/x-python",
   "name": "python",
   "nbconvert_exporter": "python",
   "pygments_lexer": "ipython3",
   "version": "3.7.10"
  }
 },
 "nbformat": 4,
 "nbformat_minor": 5
}
